{
 "cells": [
  {
   "cell_type": "code",
   "execution_count": 1,
   "metadata": {},
   "outputs": [],
   "source": [
    "# Import the necessary packages\n",
    "from tensorflow.keras.applications.mobilenet_v2 import preprocess_input\n",
    "from tensorflow.keras.preprocessing.image import img_to_array\n",
    "from sklearn.metrics import classification_report\n",
    "from imutils import paths\n",
    "import matplotlib.pyplot as plt\n",
    "import numpy as np\n",
    "import imutils\n",
    "from tensorflow.keras.models import load_model\n",
    "import cv2\n",
    "import os\n",
    "from imutils.video import VideoStream\n",
    "from playsound import playsound\n",
    "import time"
   ]
  },
  {
   "cell_type": "code",
   "execution_count": 2,
   "metadata": {},
   "outputs": [],
   "source": [
    "def Mask_Detector(frame, faceNet, maskNet):\n",
    "    \n",
    "    (h, w) = frame.shape[:2]\n",
    "    blob = cv2.dnn.blobFromImage(frame, 1.0, (300, 300),(104.0, 177.0, 123.0))\n",
    "    faceNet.setInput(blob)\n",
    "    detections = faceNet.forward()\n",
    "\n",
    "    \n",
    "    faces = []\n",
    "    locs = []\n",
    "    preds = []\n",
    "    # loop over the detections\n",
    "    for i in range(0, detections.shape[2]):\n",
    "        # extract the confidence (i.e., probability) associated with the detection\n",
    "        confidence = detections[0, 0, i, 2]\n",
    "        \n",
    "        if confidence > 0.5:\n",
    "            box = detections[0, 0, i, 3:7] * np.array([w, h, w, h])\n",
    "            (startX, startY, endX, endY) = box.astype(\"int\")\n",
    "\n",
    "            (startX, startY) = (max(0, startX), max(0, startY))\n",
    "            (endX, endY) = (min(w - 1, endX), min(h - 1, endY))\n",
    "\n",
    "            # Extract the face ROI, convert it from BGR to RGB channel ordering, resize it to 224x224, and preprocess it\n",
    "            face = frame[startY:endY, startX:endX]\n",
    "            face = cv2.cvtColor(face, cv2.COLOR_BGR2RGB)\n",
    "            face = cv2.resize(face, (224, 224))\n",
    "            face = img_to_array(face)\n",
    "            face = preprocess_input(face)\n",
    "            faces.append(face)\n",
    "            locs.append((startX, startY, endX, endY))\n",
    "    if len(faces) > 0:\n",
    "        faces = np.array(faces, dtype=\"float32\")\n",
    "        preds = maskNet.predict(faces, batch_size=32)\n",
    "\n",
    "     \n",
    "    return (locs, preds)"
   ]
  },
  {
   "cell_type": "code",
   "execution_count": 3,
   "metadata": {},
   "outputs": [
    {
     "name": "stdout",
     "output_type": "stream",
     "text": [
      "Loading face detector model...\n",
      "Loading face mask detector model...\n",
      "Starting video stream...\n"
     ]
    }
   ],
   "source": [
    "#Location of important files\n",
    "Trained_Model=\"./Mask_Detector_Model.model\"\n",
    "Face_Detector=\"./Face_Detector/\"\n",
    "\n",
    "# load our serialized face detector model from disk\n",
    "print(\"Loading face detector model...\")\n",
    "prototxtPath = os.path.sep.join([Face_Detector, \"deploy.prototxt\"])\n",
    "weightsPath = os.path.sep.join([Face_Detector,\"res10_300x300_ssd_iter_140000.caffemodel\"])\n",
    "faceNet = cv2.dnn.readNet(prototxtPath, weightsPath)\n",
    "\n",
    "print(\"Loading face mask detector model...\")\n",
    "\n",
    "maskNet = load_model(Trained_Model)\n",
    "print(\"Starting video stream...\")\n",
    "vs = VideoStream(src=0).start()\n",
    "time.sleep(2.0)\n",
    "\n",
    "# loop over the frames from the video stream\n",
    "while True:\n",
    "    frame = vs.read()\n",
    "    frame = imutils.resize(frame,width=400,inter=cv2.INTER_AREA)\n",
    "    (locs, preds) = Mask_Detector(frame, faceNet, maskNet)\n",
    "    for (box, pred) in zip(locs, preds):\n",
    "        (startX, startY, endX, endY) = box\n",
    "        (mask, withoutMask) = pred\n",
    "        if mask > withoutMask:\n",
    "            label = \"Mask\"\n",
    "            color = (0, 255, 0)\n",
    "        else:\n",
    "            label =\"No Mask\"\n",
    "            color =(0, 0, 255)\n",
    "\n",
    "        # include the probability in the label\n",
    "        label = \"{}: {:.2f}%\".format(label, max(mask, withoutMask) * 100)\n",
    "        cv2.putText(frame, label, (startX, startY - 10),cv2.FONT_HERSHEY_SIMPLEX, 0.45, color, 2)\n",
    "        cv2.rectangle(frame, (startX, startY), (endX, endY), color, 2)\n",
    "\n",
    "        # Alarm when \"No Mask\" detected\n",
    "        alarm_path=\"Alarm_Sound.wav\"\n",
    "        if (mask <= withoutMask):\n",
    "            path = os.path.abspath(alarm_path)\n",
    "            playsound(path)\n",
    "\n",
    "    # show the output frame\n",
    "    cv2.imshow(\"Frame\", frame)\n",
    "    key = cv2.waitKey(1) & 0xFF\n",
    "    if key == ord(\"q\"):\n",
    "        break\n",
    "cv2.destroyAllWindows()\n",
    "vs.stop()"
   ]
  },
  {
   "cell_type": "code",
   "execution_count": null,
   "metadata": {},
   "outputs": [],
   "source": []
  }
 ],
 "metadata": {
  "kernelspec": {
   "display_name": "Python 3",
   "language": "python",
   "name": "python3"
  },
  "language_info": {
   "codemirror_mode": {
    "name": "ipython",
    "version": 3
   },
   "file_extension": ".py",
   "mimetype": "text/x-python",
   "name": "python",
   "nbconvert_exporter": "python",
   "pygments_lexer": "ipython3",
   "version": "3.7.4"
  }
 },
 "nbformat": 4,
 "nbformat_minor": 2
}
